{
 "cells": [
  {
   "cell_type": "code",
   "execution_count": null,
   "metadata": {},
   "outputs": [],
   "source": [
    "#Simple Interest\n",
    "p = int(input(\"Enter the Principal : \"))\n",
    "n = float(input(\"Enter the No. of Years: \"))\n",
    "r = float(input(\"Enter the Rate of Interest : \"))\n",
    "print(\"The SI = {}\".format(p*n*r/100))\n"
   ]
  },
  {
   "cell_type": "code",
   "execution_count": null,
   "metadata": {},
   "outputs": [],
   "source": [
    "#IncomeTaxCalculator\n",
    "\n",
    "def calculateIncomeTax(income):\n",
    "    tax = 0;\n",
    "    if income <= 250000:  #2 Lakh 50 thousand\n",
    "        tax = 0\n",
    "\n",
    "    elif income <= 500000: #5 Lakh\n",
    "        tax = (income - 250000) * 0.05\n",
    "\n",
    "    elif income <= 750000: #7 lakh 50 thousand\n",
    "        tax = (income - 500000) * 0.10 + 12500 \n",
    "\n",
    "    elif income <= 1000000: #10 Lakh\n",
    "        tax = (income - 750000) * 0.15 + 37500 \n",
    "\n",
    "    elif income <= 1250000: #12 lakh 50 thousand\n",
    "        tax = (income - 1000000) * 0.20 + 75000 \n",
    "\n",
    "    elif income <= 1500000: #15 lakh\n",
    "        tax = (income - 1250000) * 0.25 + 125000 \n",
    "\n",
    "    else:\n",
    "        tax = (income - 1500000) * 0.30 + 187500\n",
    "\n",
    "    print(\"you owe\", tax, \"Rupees in tax!\")\n",
    "calculateIncomeTax(5000000)\n"
   ]
  },
  {
   "cell_type": "code",
   "execution_count": null,
   "metadata": {},
   "outputs": [],
   "source": [
    "#Multiplication Tables\n",
    "for i in range(1,8):\n",
    "    print(\" \")\n",
    "    for j in range (1,8):\n",
    "        print(i,\"x\",j,\"=\",(i*j),end='\\t')    \n"
   ]
  },
  {
   "cell_type": "code",
   "execution_count": null,
   "metadata": {},
   "outputs": [],
   "source": [
    "#NumberConverter - Arrays\n",
    "from array import array\n",
    "a = array ('i', range(0,9))\n",
    "x = int (input(\"enter a 3 digit number\"))\n",
    "a [2] = int(x%10)\n",
    "a [1] = int(x/10%10)\n",
    "a [0] = int(x/100)\n",
    "for i in range (0,3):\n",
    "    if a [i] == 0:\n",
    "        print(\"zero\",end=' ')\n",
    "    elif a [i] == 1 : \n",
    "        print(\"one\",end=' ')\n",
    "    elif a [i] == 2 : \n",
    "        print(\"two\",end=' ')\n",
    "    elif a [i] == 3 : \n",
    "        print(\"three\",end=' ')\n",
    "    elif a [i] == 4 : \n",
    "        print(\"four\",end=' ')\n",
    "    elif a [i] == 5 :\n",
    "        print(\"five\",end=' ')\n",
    "    elif a [i] == 6 : \n",
    "        print(\"six\",end=' ')\n",
    "    elif a [i] == 7 : \n",
    "        print(\"seven\",end=' ')\n",
    "    elif a [i] == 8 : \n",
    "        print(\"eight\",end=' ')\n",
    "    else:\n",
    "        print(\"nine\",end=' ')\n"
   ]
  },
  {
   "cell_type": "code",
   "execution_count": null,
   "metadata": {},
   "outputs": [],
   "source": [
    "# Number to Words\n",
    "Words={0:\"zero\",1:\"one\",2:\"two\",3:\"three\",4:\"four\",5:\"five\",6:\"six\",7:\"seven\",8:\"eight\",9:\"nine\",10:\"ten\"}\n",
    "def word_converter(value):\n",
    "    try:\n",
    "        if(isinstance(value,int)):\n",
    "            print(words[value])\n",
    "        elif(isinstance(value,str)):\n",
    "            for key, val in words.items():\n",
    "                if(val == value):\n",
    "                    print(key)\n",
    "    except:\n",
    "        print(\"Some error occurred while executing the code....... :(\")\n"
   ]
  },
  {
   "cell_type": "code",
   "execution_count": null,
   "metadata": {},
   "outputs": [],
   "source": [
    "#StudentInformation - lists\n",
    "def getStudentDetails():\n",
    "    b = []\n",
    "    dno = input(\"Enter your Department Number: \")\n",
    "    name = input(\"Enter your Name:\")\n",
    "    dob = input(\"Enter Date of Birth: \")\n",
    "    fname = input(\"Enter Father's name: \")\n",
    "    score = int(input(\"Enter your score: \"))\n",
    "    b.extend([dno,name,dob,fname,score])\n",
    "    return b\n",
    "a=[]\n",
    "n = int(input(\"Enter total number of students: \"))\n",
    "for i in range(0,n):\n",
    "    a.append(getStudentDetails())\n",
    "print(a)\n"
   ]
  },
  {
   "cell_type": "code",
   "execution_count": null,
   "metadata": {},
   "outputs": [],
   "source": [
    "#dictionary\n",
    "dno={1:\"19-UCA-001\",2:\"19-UCA-002\",3:\"19-UCA-022\"}\n",
    "name={1:\"Kewin\",2:\"Daniel\",3:\"Jubeen\"}\n",
    "dob={1:\"06-04-2002\",2:\"12-06-2000\",3:\"18-03-2002\"}\n",
    "mobile={1:\"8056045990\",2:\"7305487090\",3:\"9344511178\"}\n",
    "\n",
    "for key in dno:\n",
    "    print(key, dno[key],name[key],dob[key],mobile[key])"
   ]
  },
  {
   "cell_type": "code",
   "execution_count": null,
   "metadata": {},
   "outputs": [],
   "source": [
    "#Standard Deviation\n",
    "import math\n",
    "n = int(input(\"Enter the Number of Values: \"))\n",
    "weight = []\n",
    "s = 0\n",
    "for i in range(n):\n",
    "    w = int(input(\"Enter the Weight: \"))\n",
    "    weight.append(w)\n",
    "    s = s + w \n",
    "    print(weight)\n",
    "average = int(s/n)\n",
    "d = 0\n",
    "for i in range(n):\n",
    "    d = (weight[i] - average) ** 2  # ** 2 - is the Exponential Operator\n",
    "#     d = (weight[i] - average) * (weight[i] - average)\n",
    "sd = math.sqrt(d)\n",
    "print(\"The Standard Deviation is: \",sd)\n",
    "\n",
    "    \n",
    "    "
   ]
  },
  {
   "cell_type": "code",
   "execution_count": null,
   "metadata": {},
   "outputs": [],
   "source": [
    "#stack\n",
    "stack = []\n",
    "while(True):\n",
    "    x = int(input(\"Enter your choice: [1]-Insert [2]-Delete [3]-Display\"))\n",
    "    if(x==1):\n",
    "        v = int(input(\"Enter any integer value: \"))\n",
    "        stack.append(v)\n",
    "        print(stack)\n",
    "    elif(x==3):\n",
    "        print(stack)\n",
    "    elif x ==2 :\n",
    "        stack.pop()\n",
    "        print(stack)"
   ]
  },
  {
   "cell_type": "code",
   "execution_count": null,
   "metadata": {},
   "outputs": [],
   "source": [
    "#AGE CALCULATOR\n",
    "from datetime import date\n",
    "\n",
    "class Time:\n",
    "    def __init__(self, date):\n",
    "        self.time = date\n",
    "\n",
    "    def age(self):\n",
    "        today = date.today()\n",
    "        date_this_year = date(today.year, self.time.month, self.time.day)\n",
    "        return today.year - self.time.year - (date_this_year > today)\n",
    "\n",
    "time = Time(date(2002,3,18))\n",
    "print(time.age())"
   ]
  },
  {
   "cell_type": "code",
   "execution_count": null,
   "metadata": {},
   "outputs": [],
   "source": [
    "#single inheritance\n",
    "class Parent:\n",
    "  def myfun_p(self):\n",
    "      print(\"I'm the Parent\")\n",
    "class Child(Parent):\n",
    "  def myfun_c(self):\n",
    "      print(\"I'm the Child\")\n",
    "obj = Child()\n",
    "obj.myfun_p()\n",
    "obj.myfun_c()"
   ]
  },
  {
   "cell_type": "code",
   "execution_count": null,
   "metadata": {},
   "outputs": [],
   "source": [
    "#multi-level inheritance\n",
    "class Principal:\n",
    "  def principal(self):\n",
    "    print(\"I’m the Principal\")\n",
    "class Teacher(Principal):\n",
    "  def teacher(self):\n",
    "    print(\"I’m a Teacher\")\n",
    "class Student(Teacher):\n",
    "  def student(self):\n",
    "    print(\"I’m a student\")\n",
    "d = Student()\n",
    "d.principal()\n",
    "d.teacher()\n",
    "d.student()\n"
   ]
  },
  {
   "cell_type": "code",
   "execution_count": null,
   "metadata": {},
   "outputs": [],
   "source": [
    "#multiple inheritance\n",
    "class Name:\n",
    "  name = \"\"\n",
    "def myfun1(self):\n",
    "  print(self.name)\n",
    "class Surname:\n",
    "  surname = \"\"\n",
    "def myfun2(self):\n",
    "  print(self.surname)\n",
    "# Multi Child class\n",
    "class Student(Name, Surname):\n",
    "  def parents(self):\n",
    "    print(\"Name :\", self.name)\n",
    "    print(\"Surname :\", self.surname)\n",
    "stud = Student()\n",
    "stud.name = \"Jubeen\"\n",
    "stud.surname = \"Ferdey\"\n",
    "stud.parents()\n"
   ]
  },
  {
   "cell_type": "code",
   "execution_count": null,
   "metadata": {},
   "outputs": [],
   "source": [
    "#Hybrid Inheritence\n",
    "class College:\n",
    "\tdef func1(self):\n",
    "\t\tprint(\"Loyola College\")\n",
    "\n",
    "class Student1(College):\n",
    "\tdef func2(self):\n",
    "\t\tprint(\"This function is in student 1. \")\n",
    "\n",
    "class Student2(College):\n",
    "\tdef func3(self):\n",
    "\t\tprint(\"This function is in student 2.\")\n",
    "\n",
    "class Student3(Student1, College):\n",
    "\tdef func4(self):\n",
    "\t\tprint(\"This function is in student 3.\")\n",
    "\n",
    "# Driver's code\n",
    "o = Student3()\n",
    "o.func1()\n",
    "o.func2()\n",
    "\n",
    "\n",
    "\n",
    "\n",
    "\n"
   ]
  },
  {
   "cell_type": "code",
   "execution_count": 1,
   "metadata": {},
   "outputs": [
    {
     "name": "stdout",
     "output_type": "stream",
     "text": [
      "I'm the HOD\n",
      "I'm the co-ordinator under HOD\n",
      "I'm a STAFF under HOD\n"
     ]
    }
   ],
   "source": [
    "#hierarchial inheritance\n",
    "# Python program to demonstrate\n",
    "# Hierarchical inheritance\n",
    "\n",
    "\n",
    "# Base class\n",
    "class HOD:\n",
    "\tdef func1(self):\n",
    "\t\tprint(\"I'm the HOD\")\n",
    "\n",
    "# Derived class1\n",
    "class CO_ORDINATOR(HOD):\n",
    "\tdef func2(self):\n",
    "\t\tprint(\"I'm the co-ordinator under HOD\")\n",
    "\n",
    "# Derivied class2\n",
    "class staff(HOD):\n",
    "\tdef func3(self):\n",
    "\t\tprint(\"I'm a STAFF under HOD\")\n",
    "\n",
    "# Driver's code\n",
    "o1 = CO_ORDINATOR()\n",
    "o2 = staff()\n",
    "o1.func1()\n",
    "o1.func2()\n",
    "o2.func3()\n"
   ]
  },
  {
   "cell_type": "code",
   "execution_count": 3,
   "metadata": {},
   "outputs": [
    {
     "data": {
      "text/plain": [
       "['Amazon', 'Amazon', 'Flipkart', 'Dunzo']"
      ]
     },
     "execution_count": 3,
     "metadata": {},
     "output_type": "execute_result"
    }
   ],
   "source": [
    "#cart.py\n",
    "class Order:\n",
    "    def __init__(self, cart, customer):\n",
    "        self.cart = list(cart)\n",
    "        self.customer = customer\n",
    "\n",
    "    def __add__(self, other):\n",
    "        new_cart = self.cart.copy()\n",
    "        new_cart.append(other)\n",
    "        return Order(new_cart, self.customer)\n",
    "\n",
    "    def __radd__(self, other):\n",
    "        new_cart = self.cart.copy()\n",
    "        new_cart.insert(0, other)\n",
    "        return Order(new_cart, self.customer)\n",
    "\n",
    "order = Order(['Amazon', 'Flipkart'], 'Online Store')\n",
    "order.cart\n",
    "order = order + 'Dunzo'\n",
    "order.cart\n",
    "order = 'Amazon' + order\n",
    "order.cart"
   ]
  },
  {
   "cell_type": "code",
   "execution_count": null,
   "metadata": {},
   "outputs": [],
   "source": [
    "#Shape Overloading\n",
    "# Parent class\n",
    "class Shape:\n",
    "    # properties\n",
    "    data1 = \"abc\"\n",
    "\n",
    "    # function no_of_sides\n",
    "    def no_of_sides(self):\n",
    "        print(\"My sides need to be defined. I am from shape class.\")\n",
    "\n",
    "    # function two_dimensional\n",
    "    def two_dimensional(self):\n",
    "        print(\"I am a 2D object. I am from shape class\")\n",
    "\n",
    "#Sub-class\n",
    "class Square(Shape):\n",
    "    data2 = \"xyz\"\n",
    "\n",
    "    def no_of_sides(self):\n",
    "        print(\"I have 4 sides. I am from Square class\")\n",
    "\n",
    "    def color(self):\n",
    "        print(\"I have teal color. I am from Square class.\")\n",
    "\n",
    "\n",
    "# Create an object of Square class\n",
    "sq = Square()\n",
    "# Override the no_of_sides of parent class\n",
    "sq.no_of_sides()\n",
    "# Will inherit this method from the parent class\n",
    "sq.two_dimensional()\n",
    "# It's own method - color\n",
    "sq.color()"
   ]
  }
 ],
 "metadata": {
  "kernelspec": {
   "display_name": "Python 3",
   "language": "python",
   "name": "python3"
  },
  "language_info": {
   "codemirror_mode": {
    "name": "ipython",
    "version": 3
   },
   "file_extension": ".py",
   "mimetype": "text/x-python",
   "name": "python",
   "nbconvert_exporter": "python",
   "pygments_lexer": "ipython3",
   "version": "3.8.3"
  }
 },
 "nbformat": 4,
 "nbformat_minor": 4
}
