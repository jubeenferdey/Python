{
 "cells": [
  {
   "cell_type": "code",
   "execution_count": 2,
   "metadata": {},
   "outputs": [
    {
     "name": "stdout",
     "output_type": "stream",
     "text": [
      "Enter Saam's Height: 175\n",
      "Enter Klinton's Height: 178\n",
      "Klinton is taller than Saam. \n"
     ]
    }
   ],
   "source": [
    "Saam = int(input(\"Enter Saam's Height: \"))\n",
    "klinton = int(input(\"Enter Klinton's Height: \"))\n",
    "if saam > klinton:\n",
    " print(\"Saam is taller than Klinton.\")\n",
    "else:\n",
    "    print(\"Klinton is taller than Saam. \")\n"
   ]
  },
  {
   "cell_type": "code",
   "execution_count": null,
   "metadata": {},
   "outputs": [],
   "source": [
    "mark = int(input(\"Enter Your Mark: \"))\n",
    "if(mark>=90):\n",
    "    print(\"Outstanding\")\n",
    "elif(mark>=70 and mark<90):\n",
    "    print(\"Distinction\")\n",
    "elif(mark>=60 and mark<70):\n",
    "    print(\"First Class.\")\n",
    "else:\n",
    "    print(\"Passed.\")"
   ]
  },
  {
   "cell_type": "code",
   "execution_count": null,
   "metadata": {},
   "outputs": [],
   "source": []
  },
  {
   "cell_type": "code",
   "execution_count": null,
   "metadata": {},
   "outputs": [],
   "source": []
  },
  {
   "cell_type": "code",
   "execution_count": null,
   "metadata": {},
   "outputs": [],
   "source": []
  },
  {
   "cell_type": "code",
   "execution_count": null,
   "metadata": {},
   "outputs": [],
   "source": []
  }
 ],
 "metadata": {
  "kernelspec": {
   "display_name": "Python 3",
   "language": "python",
   "name": "python3"
  },
  "language_info": {
   "codemirror_mode": {
    "name": "ipython",
    "version": 3
   },
   "file_extension": ".py",
   "mimetype": "text/x-python",
   "name": "python",
   "nbconvert_exporter": "python",
   "pygments_lexer": "ipython3",
   "version": "3.8.3"
  }
 },
 "nbformat": 4,
 "nbformat_minor": 4
}
