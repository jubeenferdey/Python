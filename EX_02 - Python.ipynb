{
 "cells": [
  {
   "cell_type": "code",
   "execution_count": 9,
   "metadata": {},
   "outputs": [
    {
     "name": "stdout",
     "output_type": "stream",
     "text": [
      "Enter the 1st Number: 3\n",
      "Enter the 2nd Number: 2\n",
      "3 + 2 = 5\n",
      "3 - 2 = 1\n",
      "3 * 2 = 6\n",
      "3 / 2 = 1.5\n"
     ]
    }
   ],
   "source": [
    "#Program to Implement Arithmatic Operators\n",
    "num1 = int(input(\"Enter the 1st Number: \"))\n",
    "num2 = int(input(\"Enter the 2nd Number: \"))\n",
    "result_sum = num1 + num2\n",
    "result_diff = num1 - num2\n",
    "result_mul = num1 * num2\n",
    "result_div = num1 / num2\n",
    "print(str(num1)+\" + \"+str(num2)+ \" = \" +str(result_sum)) \n",
    "print(str(num1)+\" - \"+str(num2)+ \" = \" +str(result_diff)) \n",
    "print(str(num1)+\" * \"+str(num2)+ \" = \" +str(result_mul)) \n",
    "print(str(num1)+\" / \"+str(num2)+ \" = \" +str(result_div)) \n"
   ]
  },
  {
   "cell_type": "code",
   "execution_count": null,
   "metadata": {},
   "outputs": [],
   "source": []
  },
  {
   "cell_type": "code",
   "execution_count": null,
   "metadata": {},
   "outputs": [],
   "source": []
  },
  {
   "cell_type": "code",
   "execution_count": null,
   "metadata": {},
   "outputs": [],
   "source": []
  },
  {
   "cell_type": "code",
   "execution_count": null,
   "metadata": {},
   "outputs": [],
   "source": []
  }
 ],
 "metadata": {
  "kernelspec": {
   "display_name": "Python 3",
   "language": "python",
   "name": "python3"
  },
  "language_info": {
   "codemirror_mode": {
    "name": "ipython",
    "version": 3
   },
   "file_extension": ".py",
   "mimetype": "text/x-python",
   "name": "python",
   "nbconvert_exporter": "python",
   "pygments_lexer": "ipython3",
   "version": "3.8.3"
  }
 },
 "nbformat": 4,
 "nbformat_minor": 4
}
