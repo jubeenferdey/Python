{
 "cells": [
  {
   "cell_type": "code",
   "execution_count": 1,
   "metadata": {},
   "outputs": [
    {
     "name": "stdout",
     "output_type": "stream",
     "text": [
      "Enter the Number: 18\n",
      "18\n"
     ]
    }
   ],
   "source": [
    "x = int(input(\"Enter the Number: \"))\n",
    "print(x)"
   ]
  },
  {
   "cell_type": "code",
   "execution_count": 2,
   "metadata": {},
   "outputs": [
    {
     "ename": "SyntaxError",
     "evalue": "invalid syntax (<ipython-input-2-e2ae779ce36a>, line 3)",
     "output_type": "error",
     "traceback": [
      "\u001b[1;36m  File \u001b[1;32m\"<ipython-input-2-e2ae779ce36a>\"\u001b[1;36m, line \u001b[1;32m3\u001b[0m\n\u001b[1;33m    print(\"X: \", x \"Y: \", y)\u001b[0m\n\u001b[1;37m                   ^\u001b[0m\n\u001b[1;31mSyntaxError\u001b[0m\u001b[1;31m:\u001b[0m invalid syntax\n"
     ]
    }
   ],
   "source": [
    "x = int(input(\"X: \"))\n",
    "y = int(input(\"Y: \"))\n",
    "print(\"X: \", x \"Y: \", y)"
   ]
  },
  {
   "cell_type": "code",
   "execution_count": 3,
   "metadata": {},
   "outputs": [
    {
     "name": "stdout",
     "output_type": "stream",
     "text": [
      "X: 18\n",
      "Y: 20\n",
      "X:  18 Y:  20\n"
     ]
    }
   ],
   "source": [
    "x = int(input(\"X: \"))\n",
    "y = int(input(\"Y: \"))\n",
    "print(\"X: \", x ,\"Y: \", y)"
   ]
  },
  {
   "cell_type": "code",
   "execution_count": 6,
   "metadata": {},
   "outputs": [
    {
     "name": "stdout",
     "output_type": "stream",
     "text": [
      "Enter Principal Amount: 1000\n",
      "Enter The Number of Years: 5\n",
      "Enter The Rate of Interest: 6.5\n",
      "The Simple Interest for the Given data is:  325\n"
     ]
    }
   ],
   "source": [
    "# this is a Comment\n",
    "#Simple Interest Program\n",
    "p = int(input(\"Enter Principal Amount: \"))\n",
    "n = int(input(\"Enter The Number of Years: \"))\n",
    "r = float(input(\"Enter The Rate of Interest: \"))\n",
    "SI = p*n*r/100\n",
    "print(\"The Simple Interest for the Given data is: \", int(SI))"
   ]
  },
  {
   "cell_type": "code",
   "execution_count": null,
   "metadata": {},
   "outputs": [],
   "source": [
    "\"\""
   ]
  }
 ],
 "metadata": {
  "kernelspec": {
   "display_name": "Python 3",
   "language": "python",
   "name": "python3"
  },
  "language_info": {
   "codemirror_mode": {
    "name": "ipython",
    "version": 3
   },
   "file_extension": ".py",
   "mimetype": "text/x-python",
   "name": "python",
   "nbconvert_exporter": "python",
   "pygments_lexer": "ipython3",
   "version": "3.8.3"
  }
 },
 "nbformat": 4,
 "nbformat_minor": 4
}
